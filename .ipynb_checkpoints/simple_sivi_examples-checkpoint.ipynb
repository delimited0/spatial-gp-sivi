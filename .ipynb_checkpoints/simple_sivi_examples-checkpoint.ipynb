{
 "cells": [
  {
   "cell_type": "code",
   "execution_count": 1,
   "metadata": {},
   "outputs": [],
   "source": [
    "import numpy as np\n",
    "\n",
    "import torch\n",
    "import torch.nn as nn\n",
    "\n",
    "import matplotlib.pyplot as plt"
   ]
  },
  {
   "cell_type": "markdown",
   "metadata": {},
   "source": [
    "## Data free examples, trying to match a prior"
   ]
  },
  {
   "cell_type": "code",
   "execution_count": 285,
   "metadata": {},
   "outputs": [],
   "source": [
    "PI = np.pi\n",
    "\n",
    "def sample_n(mu, sigma):\n",
    "    eps = torch.randn_like(mu)\n",
    "    z = mu + eps * sigma\n",
    "    return z\n",
    "\n",
    "class ImplicitMixer(nn.Module):\n",
    "    def __init__(self, noise_dim):\n",
    "        super().__init__()\n",
    "        self.noise_dim = noise_dim\n",
    "        \n",
    "        self.model = nn.Sequential(nn.Linear(noise_dim, 30),\n",
    "                                   nn.ReLU(),\n",
    "                                   nn.Linear(30, 60),\n",
    "                                   nn.ReLU(),\n",
    "                                   nn.Linear(60, 30),\n",
    "                                   nn.ReLU(),\n",
    "                                   nn.Linear(30, 1))\n",
    "    \n",
    "    def forward(self, noise):\n",
    "        return self.model(noise)\n",
    "    \n",
    "class CondQNormal(nn.Module):\n",
    "    def __init__(self, sigma):\n",
    "        super().__init__()\n",
    "        self.sigma = sigma\n",
    "    \n",
    "    def forward(self, mean):\n",
    "        eps = torch.randn_like(mean)\n",
    "        z = mean + eps * self.sigma\n",
    "        return z\n",
    "    \n",
    "    def density(self, x, mean):\n",
    "        a = (1 / (np.sqrt(2 * np.pi) * self.sigma))\n",
    "        b = torch.exp(- torch.pow(x - mean, 2.) / \n",
    "                      (2 * self.sigma ** 2.))\n",
    "        return a * b\n",
    "\n",
    "def train(mixer, qcond, optimizer, K=20, J=10, iter=100):\n",
    "    for epoch in range(iter):\n",
    "        eps = torch.randn((K, mixer.noise_dim))\n",
    "        psi = mixer(eps)\n",
    "        optimizer.zero_grad()\n",
    "        loss = 0\n",
    "        for j in range(J):\n",
    "            eps_j = torch.randn((1, mixer.noise_dim))\n",
    "            psi_j = mixer(eps_j)\n",
    "            z_j = qcond(psi_j)\n",
    "            log_H = -torch.log((qcond.density(z_j, mean = psi).sum() + \n",
    "                    qcond.density(z_j, mean = psi_j) / (K+1)))\n",
    "            log_p = -.5 * torch.abs(z_j)  # laplace distribution\n",
    "            loss -= (log_H + log_p) / J\n",
    "\n",
    "        loss.backward()\n",
    "        optimizer.step()\n",
    "                \n",
    "    return mixer, qcond"
   ]
  },
  {
   "cell_type": "code",
   "execution_count": 227,
   "metadata": {},
   "outputs": [
    {
     "data": {
      "text/plain": [
       "tensor([[0.0008],\n",
       "        [0.0015],\n",
       "        [0.0024],\n",
       "        [0.0038],\n",
       "        [0.0013],\n",
       "        [0.0052],\n",
       "        [0.0023],\n",
       "        [0.0015],\n",
       "        [0.0061],\n",
       "        [0.0087],\n",
       "        [0.0010],\n",
       "        [0.0023],\n",
       "        [0.0053],\n",
       "        [0.0052],\n",
       "        [0.0017],\n",
       "        [0.0020],\n",
       "        [0.0034],\n",
       "        [0.0019],\n",
       "        [0.0040],\n",
       "        [0.0033]], grad_fn=<MulBackward0>)"
      ]
     },
     "execution_count": 227,
     "metadata": {},
     "output_type": "execute_result"
    }
   ],
   "source": [
    "qcond = CondQNormal(1)\n",
    "\n",
    "K = 20\n",
    "J = 10\n",
    "noise_dim = 10\n",
    "mixer = ImplicitMixer(noise_dim)\n",
    "\n",
    "eps = torch.randn((K, mixer.noise_dim))\n",
    "psi = mixer(eps)\n",
    "z = qcond(psi)\n",
    "\n",
    "eps = torch.randn((J, mixer.noise_dim))\n",
    "psi_star = mixer(eps)\n",
    "\n",
    "eps_j = torch.randn((1, mixer.noise_dim))\n",
    "psi_j = mixer(eps_j)\n",
    "z_j = qcond(psi_j)\n",
    "qcond.density(z_j, mean = psi)"
   ]
  },
  {
   "cell_type": "code",
   "execution_count": 286,
   "metadata": {},
   "outputs": [],
   "source": [
    "qcond = CondQNormal(1)\n",
    "\n",
    "K = 20\n",
    "J = 10\n",
    "noise_dim = 1\n",
    "mixer = ImplicitMixer(noise_dim)\n",
    "optimizer = torch.optim.Adam(mixer.parameters(), lr = .002, \n",
    "                             betas=(.5, .999))"
   ]
  },
  {
   "cell_type": "code",
   "execution_count": 310,
   "metadata": {},
   "outputs": [],
   "source": [
    "mixer, qcond = train(mixer, qcond, optimizer, K=50, J=10, iter=50)"
   ]
  },
  {
   "cell_type": "code",
   "execution_count": 311,
   "metadata": {},
   "outputs": [],
   "source": [
    "xx = np.arange(-10,10,0.01)\n",
    "yy = [.25 * np.exp(-0.5 * np.abs(r)) for r in xx]\n",
    "n_plot_samples = 1000\n",
    "eps = torch.randn((n_plot_samples, mixer.noise_dim))\n",
    "z = qcond(mixer(eps))"
   ]
  },
  {
   "cell_type": "code",
   "execution_count": 313,
   "metadata": {},
   "outputs": [
    {
     "data": {
      "text/plain": [
       "<matplotlib.legend.Legend at 0x102ec99b0>"
      ]
     },
     "execution_count": 313,
     "metadata": {},
     "output_type": "execute_result"
    },
    {
     "data": {
      "image/png": "[encoded data removed]",
      "text/plain": [
       "<Figure size 432x288 with 1 Axes>"
      ]
     },
     "metadata": {},
     "output_type": "display_data"
    }
   ],
   "source": [
    "ax=plt.figure()\n",
    "ax=plt.hist(z.detach().numpy(), density=True, label = 'Q distribution',\n",
    "            bins = 100)\n",
    "ax=plt.plot(xx,yy,'y-',label='P distribution')\n",
    "plt.legend()"
   ]
  },
  {
   "cell_type": "code",
   "execution_count": 153,
   "metadata": {},
   "outputs": [
    {
     "data": {
      "text/plain": [
       "tensor(-2.9189)"
      ]
     },
     "execution_count": 153,
     "metadata": {},
     "output_type": "execute_result"
    }
   ],
   "source": [
    "normal = torch.distributions.Normal(1, 1)\n",
    "normal.log_prob(-1)"
   ]
  },
  {
   "cell_type": "code",
   "execution_count": 151,
   "metadata": {},
   "outputs": [
    {
     "data": {
      "text/plain": [
       "tensor([-2.9189])"
      ]
     },
     "execution_count": 151,
     "metadata": {},
     "output_type": "execute_result"
    }
   ],
   "source": [
    "torch.log(qcond.density(-1., mean = torch.ones(1)))"
   ]
  },
  {
   "cell_type": "code",
   "execution_count": null,
   "metadata": {},
   "outputs": [],
   "source": []
  }
 ],
 "metadata": {
  "kernelspec": {
   "display_name": "Python 3",
   "language": "python",
   "name": "python3"
  },
  "language_info": {
   "codemirror_mode": {
    "name": "ipython",
    "version": 3
   },
   "file_extension": ".py",
   "mimetype": "text/x-python",
   "name": "python",
   "nbconvert_exporter": "python",
   "pygments_lexer": "ipython3",
   "version": "3.6.8"
  }
 },
 "nbformat": 4,
 "nbformat_minor": 2
}
