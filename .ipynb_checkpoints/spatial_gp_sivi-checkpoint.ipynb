{
 "cells": [
  {
   "cell_type": "code",
   "execution_count": 18,
   "metadata": {},
   "outputs": [],
   "source": [
    "import numpy as np\n",
    "import scipy\n",
    "\n",
    "import torch\n",
    "import torch.nn as nn\n",
    "from torch.nn import functional as F\n",
    "\n",
    "import matplotlib.pyplot as plt\n",
    "from scipy.spatial import distance_matrix"
   ]
  },
  {
   "cell_type": "code",
   "execution_count": 29,
   "metadata": {},
   "outputs": [],
   "source": [
    "class ImplicitMixer(nn.Module):\n",
    "    def __init__(self, noise_dim, n_coeffs):\n",
    "        super().__init__()\n",
    "        self.noise_dim = noise_dim\n",
    "        self.n_coeffs = n_coeffs\n",
    "        \n",
    "        self.encoder = nn.Sequential(nn.Linear(noise_dim, 100),\n",
    "                                     nn.ReLU(),\n",
    "                                     nn.Linear(100, 200),\n",
    "                                     nn.ReLU(),\n",
    "                                     nn.Linear(200, 100),\n",
    "                                     nn.ReLU()\n",
    "                                    )\n",
    "        self.range_mean = nn.Linear(100, 1)\n",
    "        self.nugget_mean = nn.Linear(100, 1)\n",
    "        self.coeff_means = nn.Linear(100, n_coeffs)\n",
    "    \n",
    "    def forward(self, noise):\n",
    "        enc = self.encoder(noise)\n",
    "        return self.range_mean(enc), self.nugget_mean(enc), self.coeff_means(enc)\n",
    "\n",
    "class QLogNormal(nn.Module):\n",
    "    '''\n",
    "    log normal conditional approximation for phi\n",
    "    '''\n",
    "    def __init__(self, logsigma0=0.):\n",
    "        super().__init__()\n",
    "        self.logsigma = nn.Parameter(torch.tensor(logsigma0))\n",
    "    \n",
    "    def pdf(self, x, mu):\n",
    "        ln = torch.distributions.LogNormal(mu, self.logsigma.exp())\n",
    "        return torch.exp(ln.log_prob(x))\n",
    "    \n",
    "    def forward(self, mu):\n",
    "        ln = torch.distributions.LogNormal(mu, self.logsigma.exp())\n",
    "        return ln.rsample()\n",
    "\n",
    "class QMVN(nn.Module):\n",
    "    '''\n",
    "    normal conditional approximation for beta\n",
    "    '''\n",
    "    def __init__(self, n_coeffs, logcov_init = None):\n",
    "        super().__init__()\n",
    "        self.n_coeffs = n_coeffs\n",
    "        if logcov_init is not None:\n",
    "            logcov = logcov_init\n",
    "        else:\n",
    "            logcov = torch.diag(torch.zeros(n_coeffs))\n",
    "        self.logcov = nn.Parameter(logcov)\n",
    "    \n",
    "    def pdf(self, x, mu):\n",
    "        mvn = torch.distributions.MultivariateNormal(mu, self.logcov.exp())\n",
    "        return torch.exp(mvn.log_prob(x))\n",
    "    \n",
    "    def forward(self, mu):\n",
    "        mvn = torch.distributions.MultivariateNormal(mu, self.logcov.exp())\n",
    "        return mvn.rsample()\n",
    "    \n",
    "def train(y, X, s, range_prior, nugget_prior, coeff_prior, \n",
    "          q_range, q_nugget, q_coeff, mixer, optimizer, \n",
    "          K=20, J=10, iter=100, interval=100):\n",
    "    dist_mat = torch.Tensor(scipy.spatial.distance_matrix(s, s))\n",
    "    n = s.shape[0]\n",
    "    losses = []\n",
    "    for epoch in range(iter):\n",
    "        if epoch % interval == 0: print(\"Iteration \" + str(epoch))\n",
    "        eps = torch.randn((K, mixer.noise_dim))\n",
    "        range_means, nugget_means, coeff_means = mixer(eps)\n",
    "        optimizer.zero_grad()\n",
    "        loss = 0\n",
    "        for j in range(J):\n",
    "            eps_j = torch.randn((1, mixer.noise_dim))\n",
    "            range_mean_j, nugget_mean_j, coeff_means_j = mixer(eps_j)\n",
    "            range_sample = q_range(range_mean_j)\n",
    "            nugget_sample = q_nugget(nugget_mean_j)\n",
    "            coeff_sample = q_coeff(coeff_means_j)\n",
    "            \n",
    "            q_sum = q_range.pdf(range_sample, mu = range_means).sum() + \\\n",
    "                    q_nugget.pdf(nugget_sample, mu = nugget_means).sum() + \\\n",
    "                    q_coeff.pdf(coeff_sample, mu = coeff_means).sum()\n",
    "            q_inner = q_range.pdf(range_sample, mu = range_mean_j) + \\\n",
    "                      q_nugget.pdf(nugget_sample, mu = nugget_mean_j) + \\\n",
    "                      q_coeff.pdf(coeff_sample, mu = coeff_means_j)\n",
    "            log_H = -torch.log((q_sum + q_inner) / (K+1))\n",
    "            \n",
    "            cov_mat = exp_cov(dist_mat, phi = range_sample)\n",
    "            model_cov = cov_mat + nugget_sample * torch.diag(torch.ones(n))\n",
    "            model = torch.distributions.MultivariateNormal(loc = X.mm(coeff_sample.t()).t(),\n",
    "                                                           covariance_matrix = model_cov)\n",
    "            log_p = model.log_prob(y.t()) + \\\n",
    "                    range_prior.log_prob(range_sample) + \\\n",
    "                    nugget_prior.log_prob(nugget_sample) + \\\n",
    "                    coeff_prior.log_prob(coeff_sample)\n",
    "            loss -= (log_H + log_p) / J\n",
    "            \n",
    "        losses.append(loss)\n",
    "        loss.backward()\n",
    "        optimizer.step()\n",
    "        \n",
    "    return mixer, q_range, q_nugget, q_coeff, losses"
   ]
  },
  {
   "cell_type": "code",
   "execution_count": 30,
   "metadata": {},
   "outputs": [],
   "source": [
    "def exp_cov(dists, phi, sigma=1):\n",
    "    return sigma * torch.exp(- dists / phi)\n",
    "\n",
    "def power_exp_cov(dists, phi, alpha):\n",
    "    return torch.exp(- torch.pow(dists / phi, alpha))"
   ]
  },
  {
   "cell_type": "markdown",
   "metadata": {},
   "source": [
    "## The data"
   ]
  },
  {
   "cell_type": "code",
   "execution_count": 31,
   "metadata": {},
   "outputs": [
    {
     "data": {
      "text/plain": [
       "<matplotlib.collections.PathCollection at 0x7f0f71310350>"
      ]
     },
     "execution_count": 31,
     "metadata": {},
     "output_type": "execute_result"
    },
    {
     "data": {
      "image/png": "[encoded data removed]",
      "text/plain": [
       "<Figure size 432x288 with 1 Axes>"
      ]
     },
     "metadata": {
      "needs_background": "light"
     },
     "output_type": "display_data"
    }
   ],
   "source": [
    "torch.manual_seed(0)\n",
    "n = 200\n",
    "s = torch.rand((n, 2))\n",
    "plt.scatter(s[:,0].detach().numpy(), s[:, 1].detach().numpy(), marker = 'o')"
   ]
  },
  {
   "cell_type": "code",
   "execution_count": 32,
   "metadata": {},
   "outputs": [],
   "source": [
    "phi_true = 5\n",
    "tau2_true = 1\n",
    "coeff_true = torch.Tensor([1, -5, 10]).view(3, 1)\n",
    "X = torch.cat((torch.ones(n, 1), s), 1)\n",
    "\n",
    "cov_mat = exp_cov(torch.Tensor(scipy.spatial.distance_matrix(s, s)), phi = phi_true)\n",
    "nugget = torch.distributions.MultivariateNormal(\n",
    "    loc = torch.zeros(n), covariance_matrix = tau2_true * torch.diag(torch.ones(n))\n",
    ")\n",
    "spatial = torch.distributions.MultivariateNormal(\n",
    "    loc = torch.zeros(n), covariance_matrix = cov_mat\n",
    ")\n",
    "w = spatial.sample().view(n, 1)\n",
    "eps = nugget.sample().view(n, 1)\n",
    "\n",
    "y = X.mm(coeff_true) + w + eps"
   ]
  },
  {
   "cell_type": "code",
   "execution_count": 33,
   "metadata": {},
   "outputs": [],
   "source": [
    "q_range = QLogNormal()\n",
    "range_prior = torch.distributions.Uniform(.01, 10)\n",
    "q_nugget = QLogNormal()\n",
    "nugget_prior = torch.distributions.TransformedDistribution(\n",
    "    torch.distributions.Gamma(2, 1),                                                           \n",
    "    torch.distributions.transforms.PowerTransform(-1)\n",
    ")\n",
    "q_coeff = QMVN(coeff_true.shape[0])\n",
    "coeff_prior = torch.distributions.MultivariateNormal(\n",
    "    loc = torch.zeros(coeff_true.shape[0]), \n",
    "    covariance_matrix = 5 * torch.diag(torch.ones(3))\n",
    ")\n",
    "\n",
    "mixer_noise_dim = 50\n",
    "mixer = ImplicitMixer(mixer_noise_dim, coeff_true.shape[0])\n",
    "\n",
    "optimizer = torch.optim.Adam(list(mixer.parameters()) \n",
    "                             + list(q_range.parameters())\n",
    "                             + list(q_nugget.parameters()) \n",
    "                             + list(q_coeff.parameters())\n",
    "                             ,\n",
    "                             lr = 0.01, betas = (.9, .999))"
   ]
  },
  {
   "cell_type": "code",
   "execution_count": 34,
   "metadata": {},
   "outputs": [
    {
     "name": "stdout",
     "output_type": "stream",
     "text": [
      "Iteration 0\n",
      "Iteration 10\n",
      "Iteration 20\n",
      "Iteration 30\n",
      "Iteration 40\n",
      "Iteration 50\n",
      "Iteration 60\n",
      "Iteration 70\n",
      "Iteration 80\n",
      "Iteration 90\n",
      "Iteration 100\n",
      "Iteration 110\n"
     ]
    },
    {
     "ename": "RuntimeError",
     "evalue": "cholesky_cpu: U(3,3) is zero, singular U.",
     "output_type": "error",
     "traceback": [
      "\u001b[0;31m---------------------------------------------------------------------------\u001b[0m",
      "\u001b[0;31mRuntimeError\u001b[0m                              Traceback (most recent call last)",
      "\u001b[0;32m<ipython-input-34-5661b02919a4>\u001b[0m in \u001b[0;36m<module>\u001b[0;34m\u001b[0m\n\u001b[1;32m      2\u001b[0m     train(y, X, s, range_prior, nugget_prior, coeff_prior,\n\u001b[1;32m      3\u001b[0m           \u001b[0mq_range\u001b[0m\u001b[0;34m,\u001b[0m \u001b[0mq_nugget\u001b[0m\u001b[0;34m,\u001b[0m \u001b[0mq_coeff\u001b[0m\u001b[0;34m,\u001b[0m \u001b[0mmixer\u001b[0m\u001b[0;34m,\u001b[0m \u001b[0moptimizer\u001b[0m\u001b[0;34m,\u001b[0m\u001b[0;34m\u001b[0m\u001b[0;34m\u001b[0m\u001b[0m\n\u001b[0;32m----> 4\u001b[0;31m           K = 20, J = 5, iter = 200, interval = 10)\n\u001b[0m",
      "\u001b[0;32m<ipython-input-29-4b774f964bda>\u001b[0m in \u001b[0;36mtrain\u001b[0;34m(y, X, s, range_prior, nugget_prior, coeff_prior, q_range, q_nugget, q_coeff, mixer, optimizer, K, J, iter, interval)\u001b[0m\n\u001b[1;32m     74\u001b[0m             \u001b[0mrange_sample\u001b[0m \u001b[0;34m=\u001b[0m \u001b[0mq_range\u001b[0m\u001b[0;34m(\u001b[0m\u001b[0mrange_mean_j\u001b[0m\u001b[0;34m)\u001b[0m\u001b[0;34m\u001b[0m\u001b[0;34m\u001b[0m\u001b[0m\n\u001b[1;32m     75\u001b[0m             \u001b[0mnugget_sample\u001b[0m \u001b[0;34m=\u001b[0m \u001b[0mq_nugget\u001b[0m\u001b[0;34m(\u001b[0m\u001b[0mnugget_mean_j\u001b[0m\u001b[0;34m)\u001b[0m\u001b[0;34m\u001b[0m\u001b[0;34m\u001b[0m\u001b[0m\n\u001b[0;32m---> 76\u001b[0;31m             \u001b[0mcoeff_sample\u001b[0m \u001b[0;34m=\u001b[0m \u001b[0mq_coeff\u001b[0m\u001b[0;34m(\u001b[0m\u001b[0mcoeff_means_j\u001b[0m\u001b[0;34m)\u001b[0m\u001b[0;34m\u001b[0m\u001b[0;34m\u001b[0m\u001b[0m\n\u001b[0m\u001b[1;32m     77\u001b[0m \u001b[0;34m\u001b[0m\u001b[0m\n\u001b[1;32m     78\u001b[0m             \u001b[0mq_sum\u001b[0m \u001b[0;34m=\u001b[0m \u001b[0mq_range\u001b[0m\u001b[0;34m.\u001b[0m\u001b[0mpdf\u001b[0m\u001b[0;34m(\u001b[0m\u001b[0mrange_sample\u001b[0m\u001b[0;34m,\u001b[0m \u001b[0mmu\u001b[0m \u001b[0;34m=\u001b[0m \u001b[0mrange_means\u001b[0m\u001b[0;34m)\u001b[0m\u001b[0;34m.\u001b[0m\u001b[0msum\u001b[0m\u001b[0;34m(\u001b[0m\u001b[0;34m)\u001b[0m \u001b[0;34m+\u001b[0m\u001b[0;31m \u001b[0m\u001b[0;31m\\\u001b[0m\u001b[0;34m\u001b[0m\u001b[0;34m\u001b[0m\u001b[0m\n",
      "\u001b[0;32m~/anaconda3/lib/python3.7/site-packages/torch/nn/modules/module.py\u001b[0m in \u001b[0;36m_call_impl\u001b[0;34m(self, *input, **kwargs)\u001b[0m\n\u001b[1;32m    725\u001b[0m             \u001b[0mresult\u001b[0m \u001b[0;34m=\u001b[0m \u001b[0mself\u001b[0m\u001b[0;34m.\u001b[0m\u001b[0m_slow_forward\u001b[0m\u001b[0;34m(\u001b[0m\u001b[0;34m*\u001b[0m\u001b[0minput\u001b[0m\u001b[0;34m,\u001b[0m \u001b[0;34m**\u001b[0m\u001b[0mkwargs\u001b[0m\u001b[0;34m)\u001b[0m\u001b[0;34m\u001b[0m\u001b[0;34m\u001b[0m\u001b[0m\n\u001b[1;32m    726\u001b[0m         \u001b[0;32melse\u001b[0m\u001b[0;34m:\u001b[0m\u001b[0;34m\u001b[0m\u001b[0;34m\u001b[0m\u001b[0m\n\u001b[0;32m--> 727\u001b[0;31m             \u001b[0mresult\u001b[0m \u001b[0;34m=\u001b[0m \u001b[0mself\u001b[0m\u001b[0;34m.\u001b[0m\u001b[0mforward\u001b[0m\u001b[0;34m(\u001b[0m\u001b[0;34m*\u001b[0m\u001b[0minput\u001b[0m\u001b[0;34m,\u001b[0m \u001b[0;34m**\u001b[0m\u001b[0mkwargs\u001b[0m\u001b[0;34m)\u001b[0m\u001b[0;34m\u001b[0m\u001b[0;34m\u001b[0m\u001b[0m\n\u001b[0m\u001b[1;32m    728\u001b[0m         for hook in itertools.chain(\n\u001b[1;32m    729\u001b[0m                 \u001b[0m_global_forward_hooks\u001b[0m\u001b[0;34m.\u001b[0m\u001b[0mvalues\u001b[0m\u001b[0;34m(\u001b[0m\u001b[0;34m)\u001b[0m\u001b[0;34m,\u001b[0m\u001b[0;34m\u001b[0m\u001b[0;34m\u001b[0m\u001b[0m\n",
      "\u001b[0;32m<ipython-input-29-4b774f964bda>\u001b[0m in \u001b[0;36mforward\u001b[0;34m(self, mu)\u001b[0m\n\u001b[1;32m     54\u001b[0m \u001b[0;34m\u001b[0m\u001b[0m\n\u001b[1;32m     55\u001b[0m     \u001b[0;32mdef\u001b[0m \u001b[0mforward\u001b[0m\u001b[0;34m(\u001b[0m\u001b[0mself\u001b[0m\u001b[0;34m,\u001b[0m \u001b[0mmu\u001b[0m\u001b[0;34m)\u001b[0m\u001b[0;34m:\u001b[0m\u001b[0;34m\u001b[0m\u001b[0;34m\u001b[0m\u001b[0m\n\u001b[0;32m---> 56\u001b[0;31m         \u001b[0mmvn\u001b[0m \u001b[0;34m=\u001b[0m \u001b[0mtorch\u001b[0m\u001b[0;34m.\u001b[0m\u001b[0mdistributions\u001b[0m\u001b[0;34m.\u001b[0m\u001b[0mMultivariateNormal\u001b[0m\u001b[0;34m(\u001b[0m\u001b[0mmu\u001b[0m\u001b[0;34m,\u001b[0m \u001b[0mself\u001b[0m\u001b[0;34m.\u001b[0m\u001b[0mlogcov\u001b[0m\u001b[0;34m)\u001b[0m\u001b[0;34m\u001b[0m\u001b[0;34m\u001b[0m\u001b[0m\n\u001b[0m\u001b[1;32m     57\u001b[0m         \u001b[0;32mreturn\u001b[0m \u001b[0mmvn\u001b[0m\u001b[0;34m.\u001b[0m\u001b[0mrsample\u001b[0m\u001b[0;34m(\u001b[0m\u001b[0;34m)\u001b[0m\u001b[0;34m\u001b[0m\u001b[0;34m\u001b[0m\u001b[0m\n\u001b[1;32m     58\u001b[0m \u001b[0;34m\u001b[0m\u001b[0m\n",
      "\u001b[0;32m~/anaconda3/lib/python3.7/site-packages/torch/distributions/multivariate_normal.py\u001b[0m in \u001b[0;36m__init__\u001b[0;34m(self, loc, covariance_matrix, precision_matrix, scale_tril, validate_args)\u001b[0m\n\u001b[1;32m    147\u001b[0m             \u001b[0mself\u001b[0m\u001b[0;34m.\u001b[0m\u001b[0m_unbroadcasted_scale_tril\u001b[0m \u001b[0;34m=\u001b[0m \u001b[0mscale_tril\u001b[0m\u001b[0;34m\u001b[0m\u001b[0;34m\u001b[0m\u001b[0m\n\u001b[1;32m    148\u001b[0m         \u001b[0;32melif\u001b[0m \u001b[0mcovariance_matrix\u001b[0m \u001b[0;32mis\u001b[0m \u001b[0;32mnot\u001b[0m \u001b[0;32mNone\u001b[0m\u001b[0;34m:\u001b[0m\u001b[0;34m\u001b[0m\u001b[0;34m\u001b[0m\u001b[0m\n\u001b[0;32m--> 149\u001b[0;31m             \u001b[0mself\u001b[0m\u001b[0;34m.\u001b[0m\u001b[0m_unbroadcasted_scale_tril\u001b[0m \u001b[0;34m=\u001b[0m \u001b[0mtorch\u001b[0m\u001b[0;34m.\u001b[0m\u001b[0mcholesky\u001b[0m\u001b[0;34m(\u001b[0m\u001b[0mcovariance_matrix\u001b[0m\u001b[0;34m)\u001b[0m\u001b[0;34m\u001b[0m\u001b[0;34m\u001b[0m\u001b[0m\n\u001b[0m\u001b[1;32m    150\u001b[0m         \u001b[0;32melse\u001b[0m\u001b[0;34m:\u001b[0m  \u001b[0;31m# precision_matrix is not None\u001b[0m\u001b[0;34m\u001b[0m\u001b[0;34m\u001b[0m\u001b[0m\n\u001b[1;32m    151\u001b[0m             \u001b[0mself\u001b[0m\u001b[0;34m.\u001b[0m\u001b[0m_unbroadcasted_scale_tril\u001b[0m \u001b[0;34m=\u001b[0m \u001b[0m_precision_to_scale_tril\u001b[0m\u001b[0;34m(\u001b[0m\u001b[0mprecision_matrix\u001b[0m\u001b[0;34m)\u001b[0m\u001b[0;34m\u001b[0m\u001b[0;34m\u001b[0m\u001b[0m\n",
      "\u001b[0;31mRuntimeError\u001b[0m: cholesky_cpu: U(3,3) is zero, singular U."
     ]
    }
   ],
   "source": [
    "mixer, q_range, q_nugget, q_coeff, losses = \\\n",
    "    train(y, X, s, range_prior, nugget_prior, coeff_prior,\n",
    "          q_range, q_nugget, q_coeff, mixer, optimizer,\n",
    "          K = 20, J = 5, iter = 200, interval = 10)"
   ]
  },
  {
   "cell_type": "code",
   "execution_count": 8,
   "metadata": {},
   "outputs": [],
   "source": [
    "n_plot_samples = 5000\n",
    "eps = torch.randn((n_plot_samples, mixer.noise_dim))\n",
    "range_mean, nugget_mean, coeff_mean = mixer(eps)\n",
    "phi = q_range(range_mean)\n",
    "tau2 = q_nugget(nugget_mean)\n",
    "beta = q_coeff(coeff_mean)"
   ]
  },
  {
   "cell_type": "code",
   "execution_count": 9,
   "metadata": {},
   "outputs": [
    {
     "data": {
      "text/plain": [
       "tensor(0.6550, grad_fn=<StdBackward0>)"
      ]
     },
     "execution_count": 9,
     "metadata": {},
     "output_type": "execute_result"
    }
   ],
   "source": [
    "phi.median()\n",
    "tau2.median()\n",
    "phi.std()\n",
    "tau2.std()"
   ]
  },
  {
   "cell_type": "code",
   "execution_count": 10,
   "metadata": {},
   "outputs": [
    {
     "data": {
      "image/png": "[encoded data removed]",
      "text/plain": [
       "<Figure size 432x288 with 2 Axes>"
      ]
     },
     "metadata": {
      "needs_background": "light"
     },
     "output_type": "display_data"
    }
   ],
   "source": [
    "plt.subplot(2, 1, 1)\n",
    "ax = plt.hist(tau2.detach().numpy(), density=True, label = '$q(\\\\tau^2)$',\n",
    "            bins = 100)\n",
    "plt.title('$q(\\\\tau^2)$')\n",
    "plt.subplot(2, 1, 2)\n",
    "plt.hist(phi.detach().numpy(), density=True, label = '$q(\\phi)$',\n",
    "            bins = 100)\n",
    "plt.title('$q(\\phi)$')\n",
    "\n",
    "plt.tight_layout()\n",
    "\n",
    "plt.savefig(\"sivi_var_posterior.pdf\")"
   ]
  },
  {
   "cell_type": "code",
   "execution_count": 11,
   "metadata": {},
   "outputs": [
    {
     "data": {
      "image/png": "[encoded data removed]",
      "text/plain": [
       "<Figure size 432x288 with 3 Axes>"
      ]
     },
     "metadata": {
      "needs_background": "light"
     },
     "output_type": "display_data"
    }
   ],
   "source": [
    "for i in range(beta.shape[1]):\n",
    "    plt.subplot(3, 1, i+1)\n",
    "    plt.hist(beta[:, i].detach().numpy(), density=True, label = '$q(\\beta)$',\n",
    "             bins = 100)\n",
    "    plt.title(\"$q(\\\\beta_{})$\".format(i))\n",
    "\n",
    "plt.tight_layout()\n",
    "\n",
    "plt.savefig(\"sivi_beta_posterior.pdf\")"
   ]
  },
  {
   "cell_type": "code",
   "execution_count": 12,
   "metadata": {},
   "outputs": [
    {
     "data": {
      "text/plain": [
       "tensor([0.7659, 0.9769, 1.8389], grad_fn=<StdBackward1>)"
      ]
     },
     "execution_count": 12,
     "metadata": {},
     "output_type": "execute_result"
    }
   ],
   "source": [
    "beta.mean(0)\n",
    "beta.std(0)"
   ]
  },
  {
   "cell_type": "code",
   "execution_count": 14,
   "metadata": {},
   "outputs": [
    {
     "data": {
      "text/plain": [
       "Text(0.5, 0, 'Iteration')"
      ]
     },
     "execution_count": 14,
     "metadata": {},
     "output_type": "execute_result"
    },
    {
     "data": {
      "image/png": "[encoded data removed]",
      "text/plain": [
       "<Figure size 432x288 with 1 Axes>"
      ]
     },
     "metadata": {
      "needs_background": "light"
     },
     "output_type": "display_data"
    }
   ],
   "source": [
    "plt.figure()\n",
    "plt.plot(torch.cat(losses).detach().numpy())\n",
    "plt.title(\"Surrogate ELBO\")\n",
    "plt.xlabel(\"Iteration\")"
   ]
  },
  {
   "cell_type": "code",
   "execution_count": 15,
   "metadata": {},
   "outputs": [
    {
     "data": {
      "image/png": "[encoded data removed]",
      "text/plain": [
       "<Figure size 432x288 with 1 Axes>"
      ]
     },
     "metadata": {
      "needs_background": "light"
     },
     "output_type": "display_data"
    }
   ],
   "source": [
    "plt.figure()\n",
    "plt.scatter(range_mean.detach().numpy(), nugget_mean.detach().numpy())\n",
    "plt.xlabel(\"$\\mu_\\phi$\")\n",
    "plt.ylabel(\"$\\mu_{\\\\tau^2}$\")\n",
    "plt.title(\"Implicit Distribution for Variance Parameters\")\n",
    "plt.savefig(\"sivi_var_corr.pdf\")"
   ]
  },
  {
   "cell_type": "code",
   "execution_count": 16,
   "metadata": {},
   "outputs": [
    {
     "data": {
      "text/plain": [
       "[tensor([[444.7673]], grad_fn=<SubBackward0>),\n",
       " tensor([[451.3130]], grad_fn=<SubBackward0>),\n",
       " tensor([[423.9658]], grad_fn=<SubBackward0>),\n",
       " tensor([[445.0574]], grad_fn=<SubBackward0>),\n",
       " tensor([[464.7780]], grad_fn=<SubBackward0>),\n",
       " tensor([[412.1952]], grad_fn=<SubBackward0>),\n",
       " tensor([[434.1210]], grad_fn=<SubBackward0>),\n",
       " tensor([[420.7328]], grad_fn=<SubBackward0>),\n",
       " tensor([[423.1062]], grad_fn=<SubBackward0>),\n",
       " tensor([[436.8580]], grad_fn=<SubBackward0>),\n",
       " tensor([[419.4306]], grad_fn=<SubBackward0>),\n",
       " tensor([[409.8043]], grad_fn=<SubBackward0>),\n",
       " tensor([[366.6461]], grad_fn=<SubBackward0>),\n",
       " tensor([[377.4456]], grad_fn=<SubBackward0>),\n",
       " tensor([[362.2490]], grad_fn=<SubBackward0>),\n",
       " tensor([[403.4333]], grad_fn=<SubBackward0>),\n",
       " tensor([[413.9656]], grad_fn=<SubBackward0>),\n",
       " tensor([[398.9514]], grad_fn=<SubBackward0>),\n",
       " tensor([[348.3797]], grad_fn=<SubBackward0>),\n",
       " tensor([[433.6541]], grad_fn=<SubBackward0>),\n",
       " tensor([[377.2374]], grad_fn=<SubBackward0>),\n",
       " tensor([[354.6561]], grad_fn=<SubBackward0>),\n",
       " tensor([[392.7007]], grad_fn=<SubBackward0>),\n",
       " tensor([[inf]], grad_fn=<SubBackward0>),\n",
       " tensor([[inf]], grad_fn=<SubBackward0>),\n",
       " tensor([[368.0245]], grad_fn=<SubBackward0>),\n",
       " tensor([[398.1239]], grad_fn=<SubBackward0>),\n",
       " tensor([[401.3911]], grad_fn=<SubBackward0>),\n",
       " tensor([[inf]], grad_fn=<SubBackward0>),\n",
       " tensor([[inf]], grad_fn=<SubBackward0>),\n",
       " tensor([[396.1781]], grad_fn=<SubBackward0>),\n",
       " tensor([[372.8258]], grad_fn=<SubBackward0>),\n",
       " tensor([[352.9588]], grad_fn=<SubBackward0>),\n",
       " tensor([[377.3881]], grad_fn=<SubBackward0>),\n",
       " tensor([[345.9077]], grad_fn=<SubBackward0>),\n",
       " tensor([[inf]], grad_fn=<SubBackward0>),\n",
       " tensor([[360.8474]], grad_fn=<SubBackward0>),\n",
       " tensor([[inf]], grad_fn=<SubBackward0>),\n",
       " tensor([[334.4586]], grad_fn=<SubBackward0>),\n",
       " tensor([[347.1305]], grad_fn=<SubBackward0>),\n",
       " tensor([[341.8287]], grad_fn=<SubBackward0>),\n",
       " tensor([[358.4933]], grad_fn=<SubBackward0>),\n",
       " tensor([[335.5519]], grad_fn=<SubBackward0>),\n",
       " tensor([[370.6902]], grad_fn=<SubBackward0>),\n",
       " tensor([[354.0563]], grad_fn=<SubBackward0>),\n",
       " tensor([[351.4685]], grad_fn=<SubBackward0>),\n",
       " tensor([[345.5222]], grad_fn=<SubBackward0>),\n",
       " tensor([[356.3325]], grad_fn=<SubBackward0>),\n",
       " tensor([[367.2654]], grad_fn=<SubBackward0>),\n",
       " tensor([[361.6357]], grad_fn=<SubBackward0>),\n",
       " tensor([[365.7370]], grad_fn=<SubBackward0>),\n",
       " tensor([[417.4800]], grad_fn=<SubBackward0>),\n",
       " tensor([[349.2809]], grad_fn=<SubBackward0>),\n",
       " tensor([[353.7882]], grad_fn=<SubBackward0>),\n",
       " tensor([[389.3390]], grad_fn=<SubBackward0>),\n",
       " tensor([[362.5862]], grad_fn=<SubBackward0>),\n",
       " tensor([[339.4803]], grad_fn=<SubBackward0>),\n",
       " tensor([[346.4189]], grad_fn=<SubBackward0>),\n",
       " tensor([[358.1821]], grad_fn=<SubBackward0>),\n",
       " tensor([[357.2593]], grad_fn=<SubBackward0>),\n",
       " tensor([[350.9193]], grad_fn=<SubBackward0>),\n",
       " tensor([[344.2761]], grad_fn=<SubBackward0>),\n",
       " tensor([[347.0900]], grad_fn=<SubBackward0>),\n",
       " tensor([[346.4679]], grad_fn=<SubBackward0>),\n",
       " tensor([[336.6754]], grad_fn=<SubBackward0>),\n",
       " tensor([[392.4106]], grad_fn=<SubBackward0>),\n",
       " tensor([[335.0561]], grad_fn=<SubBackward0>),\n",
       " tensor([[346.3997]], grad_fn=<SubBackward0>),\n",
       " tensor([[365.5703]], grad_fn=<SubBackward0>),\n",
       " tensor([[333.8250]], grad_fn=<SubBackward0>),\n",
       " tensor([[341.0578]], grad_fn=<SubBackward0>),\n",
       " tensor([[351.0652]], grad_fn=<SubBackward0>),\n",
       " tensor([[342.6068]], grad_fn=<SubBackward0>),\n",
       " tensor([[348.2263]], grad_fn=<SubBackward0>),\n",
       " tensor([[343.4662]], grad_fn=<SubBackward0>),\n",
       " tensor([[347.3333]], grad_fn=<SubBackward0>),\n",
       " tensor([[340.0859]], grad_fn=<SubBackward0>),\n",
       " tensor([[340.2796]], grad_fn=<SubBackward0>),\n",
       " tensor([[332.6985]], grad_fn=<SubBackward0>),\n",
       " tensor([[352.6081]], grad_fn=<SubBackward0>),\n",
       " tensor([[334.7328]], grad_fn=<SubBackward0>),\n",
       " tensor([[346.4942]], grad_fn=<SubBackward0>),\n",
       " tensor([[354.3112]], grad_fn=<SubBackward0>),\n",
       " tensor([[348.7607]], grad_fn=<SubBackward0>),\n",
       " tensor([[329.9888]], grad_fn=<SubBackward0>),\n",
       " tensor([[341.3177]], grad_fn=<SubBackward0>),\n",
       " tensor([[338.5536]], grad_fn=<SubBackward0>),\n",
       " tensor([[350.7094]], grad_fn=<SubBackward0>),\n",
       " tensor([[333.0633]], grad_fn=<SubBackward0>),\n",
       " tensor([[329.8499]], grad_fn=<SubBackward0>),\n",
       " tensor([[336.1845]], grad_fn=<SubBackward0>),\n",
       " tensor([[335.1015]], grad_fn=<SubBackward0>),\n",
       " tensor([[341.5372]], grad_fn=<SubBackward0>),\n",
       " tensor([[346.0786]], grad_fn=<SubBackward0>),\n",
       " tensor([[333.9218]], grad_fn=<SubBackward0>),\n",
       " tensor([[361.9111]], grad_fn=<SubBackward0>),\n",
       " tensor([[330.8885]], grad_fn=<SubBackward0>),\n",
       " tensor([[inf]], grad_fn=<SubBackward0>),\n",
       " tensor([[332.5804]], grad_fn=<SubBackward0>),\n",
       " tensor([[349.2656]], grad_fn=<SubBackward0>)]"
      ]
     },
     "execution_count": 16,
     "metadata": {},
     "output_type": "execute_result"
    }
   ],
   "source": [
    "losses"
   ]
  },
  {
   "cell_type": "code",
   "execution_count": null,
   "metadata": {},
   "outputs": [],
   "source": []
  }
 ],
 "metadata": {
  "kernelspec": {
   "display_name": "Python 3",
   "language": "python",
   "name": "python3"
  },
  "language_info": {
   "codemirror_mode": {
    "name": "ipython",
    "version": 3
   },
   "file_extension": ".py",
   "mimetype": "text/x-python",
   "name": "python",
   "nbconvert_exporter": "python",
   "pygments_lexer": "ipython3",
   "version": "3.7.6"
  }
 },
 "nbformat": 4,
 "nbformat_minor": 2
}
