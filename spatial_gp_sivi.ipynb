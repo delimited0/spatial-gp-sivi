{
 "cells": [
  {
   "cell_type": "code",
   "execution_count": 18,
   "metadata": {},
   "outputs": [],
   "source": [
    "import numpy as np\n",
    "import scipy\n",
    "\n",
    "import torch\n",
    "import torch.nn as nn\n",
    "from torch.nn import functional as F\n",
    "\n",
    "import matplotlib.pyplot as plt\n",
    "from scipy.spatial import distance_matrix"
   ]
  },
  {
   "cell_type": "code",
   "execution_count": 73,
   "metadata": {},
   "outputs": [],
   "source": [
    "class ImplicitMixer(nn.Module):\n",
    "    def __init__(self, noise_dim, n_coeffs):\n",
    "        super().__init__()\n",
    "        self.noise_dim = noise_dim\n",
    "        self.n_coeffs = n_coeffs\n",
    "        \n",
    "        self.encoder = nn.Sequential(nn.Linear(noise_dim, 100),\n",
    "                                     nn.ReLU(),\n",
    "                                     nn.Linear(100, 200),\n",
    "                                     nn.ReLU(),\n",
    "                                     nn.Linear(200, 100),\n",
    "                                     nn.ReLU()\n",
    "                                    )\n",
    "        self.range_mean = nn.Linear(100, 1)\n",
    "        self.nugget_mean = nn.Linear(100, 1)\n",
    "        self.coeff_means = nn.Linear(100, n_coeffs)\n",
    "    \n",
    "    def forward(self, noise):\n",
    "        enc = self.encoder(noise)\n",
    "        return self.range_mean(enc), self.nugget_mean(enc), self.coeff_means(enc)\n",
    "\n",
    "class QLogNormal(nn.Module):\n",
    "    '''\n",
    "    log normal conditional approximation for phi\n",
    "    '''\n",
    "    def __init__(self, logsigma0=0.):\n",
    "        super().__init__()\n",
    "        self.logsigma = nn.Parameter(torch.tensor(logsigma0))\n",
    "    \n",
    "    def pdf(self, x, mu):\n",
    "        ln = torch.distributions.LogNormal(mu, self.logsigma.exp())\n",
    "        return torch.exp(ln.log_prob(x))\n",
    "    \n",
    "    def forward(self, mu):\n",
    "        ln = torch.distributions.LogNormal(mu, self.logsigma.exp())\n",
    "        return ln.rsample()\n",
    "\n",
    "class QMVN(nn.Module):\n",
    "    '''\n",
    "    normal conditional approximation for beta\n",
    "    '''\n",
    "    def __init__(self, n_coeffs, cov_init = None):\n",
    "        super().__init__()\n",
    "        self.n_coeffs = n_coeffs\n",
    "        if cov_init is not None:\n",
    "            cov = cov_init\n",
    "        else:\n",
    "            cov = torch.diag(torch.ones(n_coeffs))\n",
    "        self.cov = nn.Parameter(cov)\n",
    "    \n",
    "    def pdf(self, x, mu):\n",
    "        mvn = torch.distributions.MultivariateNormal(mu, self.cov)\n",
    "        return torch.exp(mvn.log_prob(x))\n",
    "    \n",
    "    def forward(self, mu):\n",
    "        mvn = torch.distributions.MultivariateNormal(mu, self.cov)\n",
    "        return mvn.rsample()\n",
    "    \n",
    "class QNormal(nn.Module):\n",
    "    '''\n",
    "    diagonal normal conditional approximation for beta\n",
    "    '''\n",
    "    def __init__(self, n_coeffs, logsigma0=0.):\n",
    "        super().__init__()\n",
    "        self.logsigma = nn.Parameter(torch.tensor(logsigma0))\n",
    "    \n",
    "    def pdf(self, x, mu):\n",
    "        normal = torch.distributions.Normal(mu, self.logsigma.exp())\n",
    "        return torch.exp(normal.log_prob(x).sum(1))\n",
    "    \n",
    "    def forward(self, mu):\n",
    "        normal = torch.distributions.Normal(mu, self.logsigma.exp())\n",
    "        return normal.rsample()\n",
    "    \n",
    "def train(y, X, s, range_prior, nugget_prior, coeff_prior, \n",
    "          q_range, q_nugget, q_coeff, mixer, optimizer, \n",
    "          K=20, J=10, iter=100, interval=100):\n",
    "    dist_mat = torch.Tensor(scipy.spatial.distance_matrix(s, s))\n",
    "    n = s.shape[0]\n",
    "    losses = []\n",
    "    for epoch in range(iter):\n",
    "        if epoch % interval == 0: print(\"Iteration \" + str(epoch))\n",
    "        eps = torch.randn((K, mixer.noise_dim))\n",
    "        range_means, nugget_means, coeff_means = mixer(eps)\n",
    "        optimizer.zero_grad()\n",
    "        loss = 0\n",
    "        for j in range(J):\n",
    "            eps_j = torch.randn((1, mixer.noise_dim))\n",
    "            range_mean_j, nugget_mean_j, coeff_means_j = mixer(eps_j)\n",
    "            range_sample = q_range(range_mean_j)\n",
    "            nugget_sample = q_nugget(nugget_mean_j)\n",
    "            coeff_sample = q_coeff(coeff_means_j)\n",
    "            \n",
    "            q_sum = q_range.pdf(range_sample, mu = range_means).sum() + \\\n",
    "                    q_nugget.pdf(nugget_sample, mu = nugget_means).sum() + \\\n",
    "                    q_coeff.pdf(coeff_sample, mu = coeff_means).sum()\n",
    "            q_inner = q_range.pdf(range_sample, mu = range_mean_j) + \\\n",
    "                      q_nugget.pdf(nugget_sample, mu = nugget_mean_j) + \\\n",
    "                      q_coeff.pdf(coeff_sample, mu = coeff_means_j)\n",
    "            log_H = -torch.log((q_sum + q_inner) / (K+1))\n",
    "            \n",
    "            cov_mat = exp_cov(dist_mat, phi = range_sample)\n",
    "            model_cov = cov_mat + nugget_sample * torch.diag(torch.ones(n))\n",
    "            model = torch.distributions.MultivariateNormal(loc = X.mm(coeff_sample.t()).t(),\n",
    "                                                           covariance_matrix = model_cov)\n",
    "            log_p = model.log_prob(y.t()) + \\\n",
    "                    range_prior.log_prob(range_sample) + \\\n",
    "                    nugget_prior.log_prob(nugget_sample) + \\\n",
    "                    coeff_prior.log_prob(coeff_sample)\n",
    "            loss -= (log_H + log_p) / J\n",
    "            \n",
    "        losses.append(loss)\n",
    "        loss.backward()\n",
    "        optimizer.step()\n",
    "        \n",
    "    return mixer, q_range, q_nugget, q_coeff, losses"
   ]
  },
  {
   "cell_type": "code",
   "execution_count": 74,
   "metadata": {},
   "outputs": [],
   "source": [
    "def exp_cov(dists, phi, sigma=1):\n",
    "    return sigma * torch.exp(- dists / phi)\n",
    "\n",
    "def power_exp_cov(dists, phi, alpha):\n",
    "    return torch.exp(- torch.pow(dists / phi, alpha))"
   ]
  },
  {
   "cell_type": "markdown",
   "metadata": {},
   "source": [
    "## The data"
   ]
  },
  {
   "cell_type": "code",
   "execution_count": 113,
   "metadata": {},
   "outputs": [
    {
     "data": {
      "text/plain": [
       "<matplotlib.collections.PathCollection at 0x7f0f711a07d0>"
      ]
     },
     "execution_count": 113,
     "metadata": {},
     "output_type": "execute_result"
    },
    {
     "data": {
      "image/png": "[encoded data removed]",
      "text/plain": [
       "<Figure size 432x288 with 1 Axes>"
      ]
     },
     "metadata": {
      "needs_background": "light"
     },
     "output_type": "display_data"
    }
   ],
   "source": [
    "torch.manual_seed(0)\n",
    "n = 200\n",
    "s = torch.rand((n, 2))\n",
    "plt.scatter(s[:,0].detach().numpy(), s[:, 1].detach().numpy(), marker = 'o')"
   ]
  },
  {
   "cell_type": "code",
   "execution_count": 114,
   "metadata": {},
   "outputs": [],
   "source": [
    "phi_true = 5\n",
    "tau2_true = 1\n",
    "coeff_true = torch.Tensor([1, -5, 10]).view(3, 1)\n",
    "X = torch.cat((torch.ones(n, 1), s), 1)\n",
    "\n",
    "cov_mat = exp_cov(torch.Tensor(scipy.spatial.distance_matrix(s, s)), phi = phi_true)\n",
    "nugget = torch.distributions.MultivariateNormal(\n",
    "    loc = torch.zeros(n), covariance_matrix = tau2_true * torch.diag(torch.ones(n))\n",
    ")\n",
    "spatial = torch.distributions.MultivariateNormal(\n",
    "    loc = torch.zeros(n), covariance_matrix = cov_mat\n",
    ")\n",
    "w = spatial.sample().view(n, 1)\n",
    "eps = nugget.sample().view(n, 1)\n",
    "\n",
    "y = X.mm(coeff_true) + w + eps"
   ]
  },
  {
   "cell_type": "code",
   "execution_count": 115,
   "metadata": {},
   "outputs": [],
   "source": [
    "q_range = QLogNormal()\n",
    "range_prior = torch.distributions.Uniform(.01, 10)\n",
    "q_nugget = QLogNormal()\n",
    "nugget_prior = torch.distributions.TransformedDistribution(\n",
    "    torch.distributions.Gamma(2, 1),                                                           \n",
    "    torch.distributions.transforms.PowerTransform(-1)\n",
    ")\n",
    "# q_coeff = QMVN(coeff_true.shape[0])\n",
    "q_coeff = QNormal(coeff_true.shape[0])\n",
    "coeff_prior = torch.distributions.MultivariateNormal(\n",
    "    loc = torch.zeros(coeff_true.shape[0]), \n",
    "    covariance_matrix = 10 * torch.diag(torch.ones(3))\n",
    ")\n",
    "\n",
    "mixer_noise_dim = 50\n",
    "mixer = ImplicitMixer(mixer_noise_dim, coeff_true.shape[0])\n",
    "\n",
    "optimizer = torch.optim.Adam(list(mixer.parameters()) \n",
    "                             + list(q_range.parameters())\n",
    "                             + list(q_nugget.parameters()) \n",
    "                             + list(q_coeff.parameters())\n",
    "                             ,\n",
    "                             lr = 0.01, betas = (.9, .999))"
   ]
  },
  {
   "cell_type": "code",
   "execution_count": 116,
   "metadata": {},
   "outputs": [
    {
     "name": "stdout",
     "output_type": "stream",
     "text": [
      "Iteration 0\n",
      "Iteration 10\n",
      "Iteration 20\n",
      "Iteration 30\n",
      "Iteration 40\n",
      "Iteration 50\n",
      "Iteration 60\n",
      "Iteration 70\n",
      "Iteration 80\n",
      "Iteration 90\n",
      "Iteration 100\n",
      "Iteration 110\n",
      "Iteration 120\n",
      "Iteration 130\n",
      "Iteration 140\n",
      "Iteration 150\n",
      "Iteration 160\n",
      "Iteration 170\n",
      "Iteration 180\n",
      "Iteration 190\n"
     ]
    }
   ],
   "source": [
    "mixer, q_range, q_nugget, q_coeff, losses = \\\n",
    "    train(y, X, s, range_prior, nugget_prior, coeff_prior,\n",
    "          q_range, q_nugget, q_coeff, mixer, optimizer,\n",
    "          K = 50, J = 20, iter = 200, interval = 10)"
   ]
  },
  {
   "cell_type": "code",
   "execution_count": 117,
   "metadata": {},
   "outputs": [],
   "source": [
    "n_plot_samples = 5000\n",
    "eps = torch.randn((n_plot_samples, mixer.noise_dim))\n",
    "range_mean, nugget_mean, coeff_mean = mixer(eps)\n",
    "phi = q_range(range_mean)\n",
    "tau2 = q_nugget(nugget_mean)\n",
    "beta = q_coeff(coeff_mean)"
   ]
  },
  {
   "cell_type": "code",
   "execution_count": 118,
   "metadata": {},
   "outputs": [
    {
     "data": {
      "text/plain": [
       "tensor(0.3907, grad_fn=<StdBackward0>)"
      ]
     },
     "execution_count": 118,
     "metadata": {},
     "output_type": "execute_result"
    }
   ],
   "source": [
    "phi.median()\n",
    "tau2.median()\n",
    "phi.std()\n",
    "tau2.std()"
   ]
  },
  {
   "cell_type": "code",
   "execution_count": 119,
   "metadata": {},
   "outputs": [
    {
     "data": {
      "image/png": "[encoded data removed]",
      "text/plain": [
       "<Figure size 432x288 with 2 Axes>"
      ]
     },
     "metadata": {
      "needs_background": "light"
     },
     "output_type": "display_data"
    }
   ],
   "source": [
    "plt.subplot(2, 1, 1)\n",
    "ax = plt.hist(tau2.detach().numpy(), density=True, label = '$q(\\\\tau^2)$',\n",
    "            bins = 100)\n",
    "plt.title('$q(\\\\tau^2)$')\n",
    "plt.subplot(2, 1, 2)\n",
    "plt.hist(phi.detach().numpy(), density=True, label = '$q(\\phi)$',\n",
    "            bins = 100)\n",
    "plt.title('$q(\\phi)$')\n",
    "\n",
    "plt.tight_layout()\n",
    "\n",
    "plt.savefig(\"sivi_var_posterior.pdf\")"
   ]
  },
  {
   "cell_type": "code",
   "execution_count": 120,
   "metadata": {},
   "outputs": [
    {
     "data": {
      "image/png": "[encoded data removed]",
      "text/plain": [
       "<Figure size 432x288 with 3 Axes>"
      ]
     },
     "metadata": {
      "needs_background": "light"
     },
     "output_type": "display_data"
    }
   ],
   "source": [
    "for i in range(beta.shape[1]):\n",
    "    plt.subplot(3, 1, i+1)\n",
    "    plt.hist(beta[:, i].detach().numpy(), density=True, label = '$q(\\beta)$',\n",
    "             bins = 100)\n",
    "    plt.title(\"$q(\\\\beta_{})$\".format(i))\n",
    "\n",
    "plt.tight_layout()\n",
    "\n",
    "plt.savefig(\"sivi_beta_posterior.pdf\")"
   ]
  },
  {
   "cell_type": "code",
   "execution_count": 123,
   "metadata": {},
   "outputs": [
    {
     "name": "stdout",
     "output_type": "stream",
     "text": [
      "tensor([ 0.3140, -4.0352,  9.3224], grad_fn=<MeanBackward1>)\n",
      "tensor([0.3788, 0.4876, 0.7795], grad_fn=<StdBackward1>)\n"
     ]
    }
   ],
   "source": [
    "print(beta.mean(0))\n",
    "print(beta.std(0))"
   ]
  },
  {
   "cell_type": "code",
   "execution_count": 124,
   "metadata": {},
   "outputs": [
    {
     "data": {
      "text/plain": [
       "Text(0.5, 0, 'Iteration')"
      ]
     },
     "execution_count": 124,
     "metadata": {},
     "output_type": "execute_result"
    },
    {
     "data": {
      "image/png": "[encoded data removed]",
      "text/plain": [
       "<Figure size 432x288 with 1 Axes>"
      ]
     },
     "metadata": {
      "needs_background": "light"
     },
     "output_type": "display_data"
    }
   ],
   "source": [
    "plt.figure()\n",
    "plt.plot(torch.cat(losses).detach().numpy())\n",
    "plt.title(\"Surrogate ELBO\")\n",
    "plt.xlabel(\"Iteration\")"
   ]
  },
  {
   "cell_type": "code",
   "execution_count": 125,
   "metadata": {},
   "outputs": [
    {
     "data": {
      "image/png": "[encoded data removed]",
      "text/plain": [
       "<Figure size 432x288 with 1 Axes>"
      ]
     },
     "metadata": {
      "needs_background": "light"
     },
     "output_type": "display_data"
    }
   ],
   "source": [
    "plt.figure()\n",
    "plt.scatter(range_mean.detach().numpy(), nugget_mean.detach().numpy())\n",
    "plt.xlabel(\"$\\mu_\\phi$\")\n",
    "plt.ylabel(\"$\\mu_{\\\\tau^2}$\")\n",
    "plt.title(\"Implicit Distribution for Variance Parameters\")\n",
    "plt.savefig(\"sivi_var_corr.pdf\")"
   ]
  },
  {
   "cell_type": "code",
   "execution_count": 126,
   "metadata": {},
   "outputs": [
    {
     "data": {
      "text/plain": [
       "[tensor([[inf]], grad_fn=<SubBackward0>),\n",
       " tensor([[441.4362]], grad_fn=<SubBackward0>),\n",
       " tensor([[451.6764]], grad_fn=<SubBackward0>),\n",
       " tensor([[436.4075]], grad_fn=<SubBackward0>),\n",
       " tensor([[417.6685]], grad_fn=<SubBackward0>),\n",
       " tensor([[410.2483]], grad_fn=<SubBackward0>),\n",
       " tensor([[397.0690]], grad_fn=<SubBackward0>),\n",
       " tensor([[387.4862]], grad_fn=<SubBackward0>),\n",
       " tensor([[411.1601]], grad_fn=<SubBackward0>),\n",
       " tensor([[393.2043]], grad_fn=<SubBackward0>),\n",
       " tensor([[369.6521]], grad_fn=<SubBackward0>),\n",
       " tensor([[386.4171]], grad_fn=<SubBackward0>),\n",
       " tensor([[inf]], grad_fn=<SubBackward0>),\n",
       " tensor([[366.3589]], grad_fn=<SubBackward0>),\n",
       " tensor([[inf]], grad_fn=<SubBackward0>),\n",
       " tensor([[368.2798]], grad_fn=<SubBackward0>),\n",
       " tensor([[363.6018]], grad_fn=<SubBackward0>),\n",
       " tensor([[inf]], grad_fn=<SubBackward0>),\n",
       " tensor([[342.1866]], grad_fn=<SubBackward0>),\n",
       " tensor([[357.4256]], grad_fn=<SubBackward0>),\n",
       " tensor([[365.8773]], grad_fn=<SubBackward0>),\n",
       " tensor([[358.1797]], grad_fn=<SubBackward0>),\n",
       " tensor([[346.1944]], grad_fn=<SubBackward0>),\n",
       " tensor([[363.6114]], grad_fn=<SubBackward0>),\n",
       " tensor([[356.5588]], grad_fn=<SubBackward0>),\n",
       " tensor([[345.8097]], grad_fn=<SubBackward0>),\n",
       " tensor([[360.5056]], grad_fn=<SubBackward0>),\n",
       " tensor([[339.6136]], grad_fn=<SubBackward0>),\n",
       " tensor([[353.6667]], grad_fn=<SubBackward0>),\n",
       " tensor([[353.9517]], grad_fn=<SubBackward0>),\n",
       " tensor([[350.1334]], grad_fn=<SubBackward0>),\n",
       " tensor([[345.0042]], grad_fn=<SubBackward0>),\n",
       " tensor([[356.3923]], grad_fn=<SubBackward0>),\n",
       " tensor([[356.1884]], grad_fn=<SubBackward0>),\n",
       " tensor([[342.3958]], grad_fn=<SubBackward0>),\n",
       " tensor([[354.5781]], grad_fn=<SubBackward0>),\n",
       " tensor([[351.5379]], grad_fn=<SubBackward0>),\n",
       " tensor([[338.0822]], grad_fn=<SubBackward0>),\n",
       " tensor([[342.7684]], grad_fn=<SubBackward0>),\n",
       " tensor([[351.6679]], grad_fn=<SubBackward0>),\n",
       " tensor([[inf]], grad_fn=<SubBackward0>),\n",
       " tensor([[343.4526]], grad_fn=<SubBackward0>),\n",
       " tensor([[345.0632]], grad_fn=<SubBackward0>),\n",
       " tensor([[344.4797]], grad_fn=<SubBackward0>),\n",
       " tensor([[inf]], grad_fn=<SubBackward0>),\n",
       " tensor([[340.3595]], grad_fn=<SubBackward0>),\n",
       " tensor([[342.2246]], grad_fn=<SubBackward0>),\n",
       " tensor([[366.3015]], grad_fn=<SubBackward0>),\n",
       " tensor([[inf]], grad_fn=<SubBackward0>),\n",
       " tensor([[337.1218]], grad_fn=<SubBackward0>),\n",
       " tensor([[inf]], grad_fn=<SubBackward0>),\n",
       " tensor([[338.8687]], grad_fn=<SubBackward0>),\n",
       " tensor([[358.8587]], grad_fn=<SubBackward0>),\n",
       " tensor([[351.0352]], grad_fn=<SubBackward0>),\n",
       " tensor([[342.4428]], grad_fn=<SubBackward0>),\n",
       " tensor([[342.7900]], grad_fn=<SubBackward0>),\n",
       " tensor([[337.8235]], grad_fn=<SubBackward0>),\n",
       " tensor([[340.7496]], grad_fn=<SubBackward0>),\n",
       " tensor([[inf]], grad_fn=<SubBackward0>),\n",
       " tensor([[346.5739]], grad_fn=<SubBackward0>),\n",
       " tensor([[333.9172]], grad_fn=<SubBackward0>),\n",
       " tensor([[344.0988]], grad_fn=<SubBackward0>),\n",
       " tensor([[inf]], grad_fn=<SubBackward0>),\n",
       " tensor([[332.6007]], grad_fn=<SubBackward0>),\n",
       " tensor([[337.3930]], grad_fn=<SubBackward0>),\n",
       " tensor([[338.0644]], grad_fn=<SubBackward0>),\n",
       " tensor([[328.8076]], grad_fn=<SubBackward0>),\n",
       " tensor([[inf]], grad_fn=<SubBackward0>),\n",
       " tensor([[332.5960]], grad_fn=<SubBackward0>),\n",
       " tensor([[334.0264]], grad_fn=<SubBackward0>),\n",
       " tensor([[337.5187]], grad_fn=<SubBackward0>),\n",
       " tensor([[336.0507]], grad_fn=<SubBackward0>),\n",
       " tensor([[335.1017]], grad_fn=<SubBackward0>),\n",
       " tensor([[334.8077]], grad_fn=<SubBackward0>),\n",
       " tensor([[inf]], grad_fn=<SubBackward0>),\n",
       " tensor([[330.7244]], grad_fn=<SubBackward0>),\n",
       " tensor([[inf]], grad_fn=<SubBackward0>),\n",
       " tensor([[inf]], grad_fn=<SubBackward0>),\n",
       " tensor([[inf]], grad_fn=<SubBackward0>),\n",
       " tensor([[inf]], grad_fn=<SubBackward0>),\n",
       " tensor([[inf]], grad_fn=<SubBackward0>),\n",
       " tensor([[335.6109]], grad_fn=<SubBackward0>),\n",
       " tensor([[340.9174]], grad_fn=<SubBackward0>),\n",
       " tensor([[338.8757]], grad_fn=<SubBackward0>),\n",
       " tensor([[343.6024]], grad_fn=<SubBackward0>),\n",
       " tensor([[inf]], grad_fn=<SubBackward0>),\n",
       " tensor([[333.9604]], grad_fn=<SubBackward0>),\n",
       " tensor([[inf]], grad_fn=<SubBackward0>),\n",
       " tensor([[inf]], grad_fn=<SubBackward0>),\n",
       " tensor([[inf]], grad_fn=<SubBackward0>),\n",
       " tensor([[333.1543]], grad_fn=<SubBackward0>),\n",
       " tensor([[inf]], grad_fn=<SubBackward0>),\n",
       " tensor([[inf]], grad_fn=<SubBackward0>),\n",
       " tensor([[333.5020]], grad_fn=<SubBackward0>),\n",
       " tensor([[338.4409]], grad_fn=<SubBackward0>),\n",
       " tensor([[329.3367]], grad_fn=<SubBackward0>),\n",
       " tensor([[inf]], grad_fn=<SubBackward0>),\n",
       " tensor([[inf]], grad_fn=<SubBackward0>),\n",
       " tensor([[332.3315]], grad_fn=<SubBackward0>),\n",
       " tensor([[336.6494]], grad_fn=<SubBackward0>),\n",
       " tensor([[330.4058]], grad_fn=<SubBackward0>),\n",
       " tensor([[330.2260]], grad_fn=<SubBackward0>),\n",
       " tensor([[335.8442]], grad_fn=<SubBackward0>),\n",
       " tensor([[inf]], grad_fn=<SubBackward0>),\n",
       " tensor([[327.9200]], grad_fn=<SubBackward0>),\n",
       " tensor([[333.8651]], grad_fn=<SubBackward0>),\n",
       " tensor([[inf]], grad_fn=<SubBackward0>),\n",
       " tensor([[inf]], grad_fn=<SubBackward0>),\n",
       " tensor([[328.1168]], grad_fn=<SubBackward0>),\n",
       " tensor([[inf]], grad_fn=<SubBackward0>),\n",
       " tensor([[inf]], grad_fn=<SubBackward0>),\n",
       " tensor([[329.2560]], grad_fn=<SubBackward0>),\n",
       " tensor([[328.8367]], grad_fn=<SubBackward0>),\n",
       " tensor([[330.5956]], grad_fn=<SubBackward0>),\n",
       " tensor([[inf]], grad_fn=<SubBackward0>),\n",
       " tensor([[inf]], grad_fn=<SubBackward0>),\n",
       " tensor([[inf]], grad_fn=<SubBackward0>),\n",
       " tensor([[328.3894]], grad_fn=<SubBackward0>),\n",
       " tensor([[329.6887]], grad_fn=<SubBackward0>),\n",
       " tensor([[329.1838]], grad_fn=<SubBackward0>),\n",
       " tensor([[inf]], grad_fn=<SubBackward0>),\n",
       " tensor([[inf]], grad_fn=<SubBackward0>),\n",
       " tensor([[inf]], grad_fn=<SubBackward0>),\n",
       " tensor([[inf]], grad_fn=<SubBackward0>),\n",
       " tensor([[inf]], grad_fn=<SubBackward0>),\n",
       " tensor([[inf]], grad_fn=<SubBackward0>),\n",
       " tensor([[inf]], grad_fn=<SubBackward0>),\n",
       " tensor([[inf]], grad_fn=<SubBackward0>),\n",
       " tensor([[inf]], grad_fn=<SubBackward0>),\n",
       " tensor([[inf]], grad_fn=<SubBackward0>),\n",
       " tensor([[333.2197]], grad_fn=<SubBackward0>),\n",
       " tensor([[inf]], grad_fn=<SubBackward0>),\n",
       " tensor([[inf]], grad_fn=<SubBackward0>),\n",
       " tensor([[inf]], grad_fn=<SubBackward0>),\n",
       " tensor([[inf]], grad_fn=<SubBackward0>),\n",
       " tensor([[325.1246]], grad_fn=<SubBackward0>),\n",
       " tensor([[inf]], grad_fn=<SubBackward0>),\n",
       " tensor([[325.5052]], grad_fn=<SubBackward0>),\n",
       " tensor([[inf]], grad_fn=<SubBackward0>),\n",
       " tensor([[inf]], grad_fn=<SubBackward0>),\n",
       " tensor([[inf]], grad_fn=<SubBackward0>),\n",
       " tensor([[inf]], grad_fn=<SubBackward0>),\n",
       " tensor([[331.1439]], grad_fn=<SubBackward0>),\n",
       " tensor([[327.0980]], grad_fn=<SubBackward0>),\n",
       " tensor([[326.3223]], grad_fn=<SubBackward0>),\n",
       " tensor([[inf]], grad_fn=<SubBackward0>),\n",
       " tensor([[inf]], grad_fn=<SubBackward0>),\n",
       " tensor([[inf]], grad_fn=<SubBackward0>),\n",
       " tensor([[inf]], grad_fn=<SubBackward0>),\n",
       " tensor([[inf]], grad_fn=<SubBackward0>),\n",
       " tensor([[inf]], grad_fn=<SubBackward0>),\n",
       " tensor([[328.0935]], grad_fn=<SubBackward0>),\n",
       " tensor([[326.4012]], grad_fn=<SubBackward0>),\n",
       " tensor([[inf]], grad_fn=<SubBackward0>),\n",
       " tensor([[inf]], grad_fn=<SubBackward0>),\n",
       " tensor([[inf]], grad_fn=<SubBackward0>),\n",
       " tensor([[inf]], grad_fn=<SubBackward0>),\n",
       " tensor([[inf]], grad_fn=<SubBackward0>),\n",
       " tensor([[inf]], grad_fn=<SubBackward0>),\n",
       " tensor([[inf]], grad_fn=<SubBackward0>),\n",
       " tensor([[inf]], grad_fn=<SubBackward0>),\n",
       " tensor([[inf]], grad_fn=<SubBackward0>),\n",
       " tensor([[inf]], grad_fn=<SubBackward0>),\n",
       " tensor([[inf]], grad_fn=<SubBackward0>),\n",
       " tensor([[inf]], grad_fn=<SubBackward0>),\n",
       " tensor([[inf]], grad_fn=<SubBackward0>),\n",
       " tensor([[inf]], grad_fn=<SubBackward0>),\n",
       " tensor([[inf]], grad_fn=<SubBackward0>),\n",
       " tensor([[inf]], grad_fn=<SubBackward0>),\n",
       " tensor([[inf]], grad_fn=<SubBackward0>),\n",
       " tensor([[inf]], grad_fn=<SubBackward0>),\n",
       " tensor([[inf]], grad_fn=<SubBackward0>),\n",
       " tensor([[inf]], grad_fn=<SubBackward0>),\n",
       " tensor([[inf]], grad_fn=<SubBackward0>),\n",
       " tensor([[inf]], grad_fn=<SubBackward0>),\n",
       " tensor([[inf]], grad_fn=<SubBackward0>),\n",
       " tensor([[inf]], grad_fn=<SubBackward0>),\n",
       " tensor([[inf]], grad_fn=<SubBackward0>),\n",
       " tensor([[inf]], grad_fn=<SubBackward0>),\n",
       " tensor([[inf]], grad_fn=<SubBackward0>),\n",
       " tensor([[inf]], grad_fn=<SubBackward0>),\n",
       " tensor([[inf]], grad_fn=<SubBackward0>),\n",
       " tensor([[inf]], grad_fn=<SubBackward0>),\n",
       " tensor([[inf]], grad_fn=<SubBackward0>),\n",
       " tensor([[inf]], grad_fn=<SubBackward0>),\n",
       " tensor([[inf]], grad_fn=<SubBackward0>),\n",
       " tensor([[inf]], grad_fn=<SubBackward0>),\n",
       " tensor([[inf]], grad_fn=<SubBackward0>),\n",
       " tensor([[inf]], grad_fn=<SubBackward0>),\n",
       " tensor([[inf]], grad_fn=<SubBackward0>),\n",
       " tensor([[inf]], grad_fn=<SubBackward0>),\n",
       " tensor([[inf]], grad_fn=<SubBackward0>),\n",
       " tensor([[inf]], grad_fn=<SubBackward0>),\n",
       " tensor([[inf]], grad_fn=<SubBackward0>),\n",
       " tensor([[inf]], grad_fn=<SubBackward0>),\n",
       " tensor([[inf]], grad_fn=<SubBackward0>),\n",
       " tensor([[inf]], grad_fn=<SubBackward0>),\n",
       " tensor([[inf]], grad_fn=<SubBackward0>),\n",
       " tensor([[inf]], grad_fn=<SubBackward0>),\n",
       " tensor([[inf]], grad_fn=<SubBackward0>)]"
      ]
     },
     "execution_count": 126,
     "metadata": {},
     "output_type": "execute_result"
    }
   ],
   "source": [
    "losses"
   ]
  },
  {
   "cell_type": "code",
   "execution_count": null,
   "metadata": {},
   "outputs": [],
   "source": []
  },
  {
   "cell_type": "code",
   "execution_count": null,
   "metadata": {},
   "outputs": [],
   "source": []
  }
 ],
 "metadata": {
  "kernelspec": {
   "display_name": "Python 3",
   "language": "python",
   "name": "python3"
  },
  "language_info": {
   "codemirror_mode": {
    "name": "ipython",
    "version": 3
   },
   "file_extension": ".py",
   "mimetype": "text/x-python",
   "name": "python",
   "nbconvert_exporter": "python",
   "pygments_lexer": "ipython3",
   "version": "3.7.6"
  }
 },
 "nbformat": 4,
 "nbformat_minor": 2
}
